{
 "cells": [
  {
   "cell_type": "code",
   "execution_count": 1,
   "metadata": {},
   "outputs": [],
   "source": [
    "import entity_tagging\n",
    "import utils\n",
    "import argparse\n",
    "from datetime import datetime\n",
    "import pandas as pd\n",
    "import pickle\n",
    "from sklearn.model_selection import KFold\n",
    "import numpy as np"
   ]
  },
  {
   "cell_type": "code",
   "execution_count": 2,
   "metadata": {},
   "outputs": [],
   "source": [
    "def load_corpus_xlsx(filename):\n",
    "    corpus = pd.read_excel(filename, dtype={'msg': str})\n",
    "    list_label = corpus['class'].to_list()\n",
    "    list_content = corpus['msg'].to_list()\n",
    "\n",
    "    return list_label, list_content"
   ]
  },
  {
   "cell_type": "code",
   "execution_count": 111,
   "metadata": {},
   "outputs": [],
   "source": [
    "list_label, list_content = load_corpus_xlsx('C:\\KhoiNXM\\Spam message Vietnamese\\Data\\message_modified_v1.xlsx')"
   ]
  },
  {
   "cell_type": "code",
   "execution_count": 39,
   "metadata": {},
   "outputs": [],
   "source": [
    "list_content = entity_tagging.entity_tagging(list_content)"
   ]
  },
  {
   "cell_type": "code",
   "execution_count": 5,
   "metadata": {},
   "outputs": [],
   "source": [
    "classifier_list = ['nb', 'svm', 'dt', 'knn', 'maxent', 'baseline']"
   ]
  },
  {
   "cell_type": "markdown",
   "metadata": {},
   "source": [
    "# Begin test"
   ]
  },
  {
   "cell_type": "code",
   "execution_count": 112,
   "metadata": {},
   "outputs": [],
   "source": [
    "test_content = 'Ngân hàng xin thông báo cho bạn về cuộc hẹn lúc 8h tại địa chỉ ABC. Nhân viên hỗ trợ của bạn là D , số điện thoại liên hệ'"
   ]
  },
  {
   "cell_type": "code",
   "execution_count": 113,
   "metadata": {},
   "outputs": [],
   "source": [
    "list_content.insert(0, test_content)"
   ]
  },
  {
   "cell_type": "code",
   "execution_count": 115,
   "metadata": {},
   "outputs": [],
   "source": [
    "list_content = entity_tagging.entity_tagging(list_content)"
   ]
  },
  {
   "cell_type": "code",
   "execution_count": 118,
   "metadata": {},
   "outputs": [],
   "source": [
    "list_content_vec, list_len_sms, dictionary = utils.vectorize(list_content, 'bow')"
   ]
  },
  {
   "cell_type": "code",
   "execution_count": 119,
   "metadata": {},
   "outputs": [
    {
     "data": {
      "text/plain": [
       "(8051, 2177)"
      ]
     },
     "execution_count": 119,
     "metadata": {},
     "output_type": "execute_result"
    }
   ],
   "source": [
    "list_content_vec.shape"
   ]
  },
  {
   "cell_type": "code",
   "execution_count": 104,
   "metadata": {},
   "outputs": [],
   "source": [
    "# Reads in saved classification model\n",
    "load_clf = pickle.load(open(r'C:\\KhoiNXM\\Spam message Vietnamese\\Dev\\vietnamese-spam-sms-filtering\\models\\bow_nb_clf.pkl', 'rb'))"
   ]
  },
  {
   "cell_type": "code",
   "execution_count": 106,
   "metadata": {},
   "outputs": [
    {
     "data": {
      "text/plain": [
       "array([[ 1.,  1.,  2., ...,  0.,  0., 29.]])"
      ]
     },
     "execution_count": 106,
     "metadata": {},
     "output_type": "execute_result"
    }
   ],
   "source": [
    "list_content_vec[:1]"
   ]
  },
  {
   "cell_type": "code",
   "execution_count": 72,
   "metadata": {},
   "outputs": [
    {
     "data": {
      "text/plain": [
       "array([0., 0., 0., ..., 0., 0., 7.])"
      ]
     },
     "execution_count": 72,
     "metadata": {},
     "output_type": "execute_result"
    }
   ],
   "source": [
    "list_content_vec[6]"
   ]
  },
  {
   "cell_type": "code",
   "execution_count": 83,
   "metadata": {},
   "outputs": [
    {
     "data": {
      "text/plain": [
       "['chả thấy gì cả',\n",
       " 'bạn kiểm tra giúp mình với ạ',\n",
       " 'chào bạn mình muốn cắt mạng internet',\n",
       " 'vậy mình đã chết và khoái cảm giác bị chửi',\n",
       " 'shop kiểm tra giúp em với',\n",
       " 'mình muốn login vào number number number number thì mật khẩu và id là gì vậy',\n",
       " 'em đăng kí gói super65 fpt cả number nơi mà mạng download đc number 600kb s',\n",
       " 'mạng mỗi tối đều mất ổn định nhé',\n",
       " 'chào anh nam anh vui lòng cung cấp thông tin hợp đổng fpt kiểm tra ạ',\n",
       " 'dạ bên em đã update lại tín hiệu nhờ anh kiểm tra lại ạ']"
      ]
     },
     "execution_count": 83,
     "metadata": {},
     "output_type": "execute_result"
    }
   ],
   "source": [
    "list_content[635:645]"
   ]
  },
  {
   "cell_type": "code",
   "execution_count": 105,
   "metadata": {},
   "outputs": [
    {
     "data": {
      "text/plain": [
       "array([0], dtype=int64)"
      ]
     },
     "execution_count": 105,
     "metadata": {},
     "output_type": "execute_result"
    }
   ],
   "source": [
    "load_clf.predict(list_content_vec[:1])"
   ]
  },
  {
   "cell_type": "markdown",
   "metadata": {},
   "source": [
    "# End test"
   ]
  },
  {
   "cell_type": "code",
   "execution_count": 6,
   "metadata": {},
   "outputs": [],
   "source": [
    "def train_evaluation(list_label, list_content, vectorize_method, classifier_list):\n",
    "\n",
    "    if vectorize_method == 'bow':\n",
    "        list_content_vec, list_label, list_len_sms, dictionary = utils.doc_2_vec(list_content, list_label, 'bow')\n",
    "\n",
    "    if vectorize_method == 'tfidf':\n",
    "        list_content_vec, list_label, list_len_sms, dictionary = utils.doc_2_vec(list_content, list_label, 'tfidf')\n",
    "\n",
    "    for i in classifier_list:\n",
    "        list_false_positive, list_false_negative, list_true_positive, list_true_negative = \\\n",
    "        utils.kfold_classification(list_content, list_content_vec, list_label, i, 5, vectorize_method)\n",
    "        # print(list_false_positive)\n",
    "        # print(list_false_negative)\n",
    "        # print(list_true_positive)\n",
    "        # print(list_true_negative)\n",
    "        print('Evaluation for ' + i.upper())\n",
    "        utils.evaluation(list_false_positive, list_false_negative, list_true_positive, list_true_negative)\n",
    "        print('-------------------------------------------------')"
   ]
  },
  {
   "cell_type": "code",
   "execution_count": 16,
   "metadata": {},
   "outputs": [],
   "source": [
    "def train_entire_dataset(list_content, list_label, vectorize_method):\n",
    "    list_content_vec, list_label, list_len_sms, dictionary = utils.doc_2_vec(list_content, list_label, vectorize_method)\n",
    "    clf = utils.build_classifier_nb(list_content_vec, list_label)\n",
    "    pickle.dump(clf, open(r'C:\\KhoiNXM\\Spam message Vietnamese\\Dev\\vietnamese-spam-sms-filtering\\models\\bow_nb_clf.pkl', 'wb'))\n",
    "    print('Traning Done!')"
   ]
  },
  {
   "cell_type": "code",
   "execution_count": 17,
   "metadata": {},
   "outputs": [
    {
     "name": "stdout",
     "output_type": "stream",
     "text": [
      "Traning Done!\n"
     ]
    }
   ],
   "source": [
    "train_entire_dataset(list_content, list_label,'bow')"
   ]
  },
  {
   "cell_type": "code",
   "execution_count": 7,
   "metadata": {},
   "outputs": [
    {
     "name": "stdout",
     "output_type": "stream",
     "text": [
      "Evaluation for NB\n",
      "False Positive Rate: 1.073881842611954%\n",
      "False Negative Rate: 15.138779735674575%\n",
      "True Positive Rate: 84.86122026432541%\n",
      "True Negative Rate: 98.92611815738803%\n",
      "-------------------------------------------------\n",
      "Evaluation for SVM\n",
      "False Positive Rate: 0.9740059088338784%\n",
      "False Negative Rate: 17.96114426250163%\n",
      "True Positive Rate: 82.03885573749837%\n",
      "True Negative Rate: 99.02599409116613%\n",
      "-------------------------------------------------\n",
      "Evaluation for DT\n",
      "False Positive Rate: 3.548351709638655%\n",
      "False Negative Rate: 26.101911834142%\n",
      "True Positive Rate: 73.898088165858%\n",
      "True Negative Rate: 96.45164829036135%\n",
      "-------------------------------------------------\n",
      "Evaluation for KNN\n",
      "False Positive Rate: 1.459818615738095%\n",
      "False Negative Rate: 43.425532714465795%\n",
      "True Positive Rate: 56.574467285534205%\n",
      "True Negative Rate: 98.5401813842619%\n",
      "-------------------------------------------------\n",
      "Evaluation for MAXENT\n",
      "False Positive Rate: 0.8886138017429629%\n",
      "False Negative Rate: 19.429083468527384%\n",
      "True Positive Rate: 80.5709165314726%\n",
      "True Negative Rate: 99.11138619825704%\n",
      "-------------------------------------------------\n",
      "Evaluation for BASELINE\n",
      "False Positive Rate: 0.014114326040931546%\n",
      "False Negative Rate: 99.90384615384615%\n",
      "True Positive Rate: 0.09615384615384616%\n",
      "True Negative Rate: 99.98588567395906%\n",
      "-------------------------------------------------\n"
     ]
    }
   ],
   "source": [
    "train_evaluation(list_label, list_content, 'bow', classifier_list)"
   ]
  },
  {
   "cell_type": "code",
   "execution_count": 8,
   "metadata": {},
   "outputs": [
    {
     "name": "stdout",
     "output_type": "stream",
     "text": [
      "Evaluation for NB\n",
      "False Positive Rate: 0.014114326040931546%\n",
      "False Negative Rate: 86.8779451876219%\n",
      "True Positive Rate: 13.1220548123781%\n",
      "True Negative Rate: 99.98588567395906%\n",
      "-------------------------------------------------\n",
      "Evaluation for SVM\n",
      "False Positive Rate: 0.5876200513943358%\n",
      "False Negative Rate: 30.259694208829437%\n",
      "True Positive Rate: 69.74030579117057%\n",
      "True Negative Rate: 99.41237994860566%\n",
      "-------------------------------------------------\n",
      "Evaluation for DT\n",
      "False Positive Rate: 3.4955387354472345%\n",
      "False Negative Rate: 25.439517112417207%\n",
      "True Positive Rate: 74.56048288758281%\n",
      "True Negative Rate: 96.50446126455277%\n",
      "-------------------------------------------------\n",
      "Evaluation for KNN\n",
      "False Positive Rate: 1.0445096762374104%\n",
      "False Negative Rate: 56.012192569971894%\n",
      "True Positive Rate: 43.987807430028106%\n",
      "True Negative Rate: 98.95549032376259%\n",
      "-------------------------------------------------\n",
      "Evaluation for MAXENT\n",
      "False Positive Rate: 0.5586852484671465%\n",
      "False Negative Rate: 33.7205769714162%\n",
      "True Positive Rate: 66.27942302858379%\n",
      "True Negative Rate: 99.44131475153286%\n",
      "-------------------------------------------------\n",
      "Evaluation for BASELINE\n",
      "False Positive Rate: 0.014114326040931546%\n",
      "False Negative Rate: 99.90384615384615%\n",
      "True Positive Rate: 0.09615384615384616%\n",
      "True Negative Rate: 99.98588567395906%\n",
      "-------------------------------------------------\n"
     ]
    }
   ],
   "source": [
    "train_evaluation(list_label, list_content, 'tfidf', classifier_list)"
   ]
  },
  {
   "cell_type": "code",
   "execution_count": null,
   "metadata": {},
   "outputs": [],
   "source": []
  }
 ],
 "metadata": {
  "interpreter": {
   "hash": "029daf65db69d531e3e790e61475ea6f82ab3ad35fbaaf2f645ae9dad464b799"
  },
  "kernelspec": {
   "display_name": "Python 3.7.8 64-bit ('spam_detection_libs': venv)",
   "language": "python",
   "name": "python3"
  },
  "language_info": {
   "codemirror_mode": {
    "name": "ipython",
    "version": 3
   },
   "file_extension": ".py",
   "mimetype": "text/x-python",
   "name": "python",
   "nbconvert_exporter": "python",
   "pygments_lexer": "ipython3",
   "version": "3.7.8"
  },
  "orig_nbformat": 4
 },
 "nbformat": 4,
 "nbformat_minor": 2
}
