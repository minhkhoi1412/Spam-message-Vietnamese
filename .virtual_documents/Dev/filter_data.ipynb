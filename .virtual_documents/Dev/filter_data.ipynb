import pandas as pd
from langdetect import detect
import re


message = pd.read_excel(r'C:\KhoiNXM\Spam message Vietnamese\Data\rocketchat_livechat_message_modified_class.xlsx')
message


message.dropna(subset=['msg'], inplace=True)


mask = (message['msg'].str.len() <= 10)
new_message = message.loc[~mask]


new_message


selection = ['FPT Telecom - http', '- http', ' - http', 'http', 'nan', 'React App', 
             'promptTranscript', 'Auto-close', 'connected', 'Phản hồi của BOT',
             'welcome_message', '- ', ' - ']
new_message = new_message[~new_message['msg'].str.startswith(tuple(selection), na=False)]


new_message


def detect_vietnamese(line):
    searchObj = re.findall(r'(?i)\b[a-záàảãạăắằẳẵặâấầẩẫậéèẻẽẹêếềểễệóòỏõọôốồổỗộơớờởỡợíìỉĩịúùủũụưứừửữựýỳỷỹỵđ]+\b', line)
    if searchObj is not None:
        return line


new_message = pd.DataFrame(new_message.msg.apply(lambda x: detect_vietnamese(str(x))))


new_message


new_message.to_excel(r'C:\KhoiNXM\Spam message Vietnamese\Data\rocketchat_livechat_message_modified_class_v1.xlsx', index=False)



